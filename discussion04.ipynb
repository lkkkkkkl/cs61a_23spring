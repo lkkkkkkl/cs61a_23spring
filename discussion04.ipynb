{
 "cells": [
  {
   "cell_type": "markdown",
   "metadata": {},
   "source": [
    "## Q1: Count Stair Ways\n",
    "Imagine that you want to go up a flight of stairs that has n steps, where n is a positive integer. You can either take 1 or 2 steps each time. How many different ways can you go up this flight of stairs? In this question, you'll write a function count_stair_ways that solves this problem. Before you code your approach, consider these questions."
   ]
  },
  {
   "cell_type": "markdown",
   "metadata": {
    "vscode": {
     "languageId": "plaintext"
    }
   },
   "source": [
    "How many different ways are there to go up a flight of stairs with n = 1 step? How about n = 2 steps? Try writing out some other examples and see if you notice any patterns."
   ]
  },
  {
   "cell_type": "code",
   "execution_count": 1,
   "metadata": {},
   "outputs": [],
   "source": [
    "def count_stair_ways(n):\n",
    "    if n >= 2:\n",
    "        return count_stair_ways(n-1) + count_stair_ways(n-2)\n",
    "    elif n == 1 or n == 0:\n",
    "        return 1"
   ]
  },
  {
   "cell_type": "code",
   "execution_count": 4,
   "metadata": {},
   "outputs": [
    {
     "name": "stdout",
     "output_type": "stream",
     "text": [
      "5 144\n"
     ]
    }
   ],
   "source": [
    "print(count_stair_ways(4), count_stair_ways(11))\n"
   ]
  },
  {
   "cell_type": "markdown",
   "metadata": {},
   "source": [
    "## Q2: Count K\n",
    "Consider a special version of the count_stair_ways problem, where instead of taking 1 or 2 steps, we are able to take up to and including k steps at a time. Write a function count_k that figures out the number of paths for this scenario. Assume n and k are positive.\n",
    "\n",
    "Hint: Your solution will follow a very similar logic to what you did for count_stair_ways."
   ]
  },
  {
   "cell_type": "code",
   "execution_count": 3,
   "metadata": {},
   "outputs": [],
   "source": [
    "def count_k(n, k):\n",
    "    if n == 1 or n == 0:\n",
    "        return 1\n",
    "    elif n <= k:\n",
    "        total = 0\n",
    "        for i in range(1, n+1):\n",
    "            total += count_k(n-i, k)\n",
    "        return total\n",
    "    else:\n",
    "        total = 0\n",
    "        for j in range(1, k+1):\n",
    "            total += count_k(n-j, k)\n",
    "        return total            \n",
    "\n"
   ]
  },
  {
   "cell_type": "code",
   "execution_count": 5,
   "metadata": {},
   "outputs": [
    {
     "name": "stdout",
     "output_type": "stream",
     "text": [
      "4\n",
      "8\n",
      "274\n",
      "1\n"
     ]
    }
   ],
   "source": [
    "print(count_k(3, 3))\n",
    "print(count_k(4, 4))\n",
    "print(count_k(10, 3))\n",
    "print(count_k(300, 1))"
   ]
  },
  {
   "cell_type": "markdown",
   "metadata": {},
   "source": [
    "## Lists\n",
    "A list is a data structure that can store multiple elements. Each element can be of any type, even a list itself. We write a list as a comma-separated list of expressions in square brackets:"
   ]
  },
  {
   "cell_type": "code",
   "execution_count": 6,
   "metadata": {},
   "outputs": [],
   "source": [
    "list_of_ints = [1, 2, 3, 4]\n",
    "list_of_bools = [True, True, False, False]\n",
    "nested_lists = [1, [2, 3], [4, [5]]]"
   ]
  },
  {
   "cell_type": "code",
   "execution_count": 7,
   "metadata": {},
   "outputs": [],
   "source": [
    "lst = [6, 5, 4, 3, 2, 1, 0]"
   ]
  },
  {
   "cell_type": "code",
   "execution_count": 8,
   "metadata": {},
   "outputs": [
    {
     "data": {
      "text/plain": [
       "0"
      ]
     },
     "execution_count": 8,
     "metadata": {},
     "output_type": "execute_result"
    }
   ],
   "source": [
    "lst[0]\n",
    "lst[3]\n",
    "lst[-1]"
   ]
  },
  {
   "cell_type": "markdown",
   "metadata": {},
   "source": [
    "## List slicing\n",
    "To create a copy of part or all of a list, we can use list slicing. The syntax to slice a list lst is: lst[<start index>:<end index>:<step size>].\n",
    "\n",
    "This expression evaluates to a new list containing the elements of lst:\n",
    "\n",
    "Starting at and including the element at <start index>.\n",
    "Up to but not including the element at <end index>.\n",
    "With <step size> as the difference between indices of elements to include.\n",
    "If the start, end, or step size are not explicitly specified, Python has default values for them. A negative step size indicates that we are stepping backwards through a list when including elements."
   ]
  },
  {
   "cell_type": "code",
   "execution_count": 9,
   "metadata": {},
   "outputs": [
    {
     "data": {
      "text/plain": [
       "[6, 4, 2, 0]"
      ]
     },
     "execution_count": 9,
     "metadata": {},
     "output_type": "execute_result"
    }
   ],
   "source": [
    "lst[:3]   # Start index defaults to 0\n",
    "lst[3:]   # End index defaults to len(lst)\n",
    "lst[::-1]   # Make a reversed copy of the entire list\n",
    "lst[::2]  # Skip every other; step size defaults to 1 otherwise"
   ]
  },
  {
   "cell_type": "markdown",
   "metadata": {},
   "source": [
    "## Q4: Even weighted\n",
    "Write a function that takes a list s and returns a new list that keeps only the even-indexed elements of s and multiplies them by their corresponding index. First approach this problem with a normal for loop (without list comprehension)."
   ]
  },
  {
   "cell_type": "code",
   "execution_count": 11,
   "metadata": {},
   "outputs": [],
   "source": [
    "# without list\n",
    "def even_weighted_loop(s):\n",
    "    s_new = []\n",
    "    for i in range(len(s)):\n",
    "        if i % 2 == 0:\n",
    "            s_new.append(s[i]*i)\n",
    "    return s_new\n"
   ]
  },
  {
   "cell_type": "code",
   "execution_count": 12,
   "metadata": {},
   "outputs": [
    {
     "data": {
      "text/plain": [
       "[0, 6, 20]"
      ]
     },
     "execution_count": 12,
     "metadata": {},
     "output_type": "execute_result"
    }
   ],
   "source": [
    "even_weighted_loop([1,2,3,4,5,6])"
   ]
  },
  {
   "cell_type": "code",
   "execution_count": 17,
   "metadata": {},
   "outputs": [],
   "source": [
    "# with list\n",
    "def even_weighted_loop(s):\n",
    "    #return [i * order for i, order in enumerate(s) if (order-1)%2 == 0 ]\n",
    "    return [s[i]*i for i in range(0, len(s), 2)]"
   ]
  },
  {
   "cell_type": "code",
   "execution_count": 18,
   "metadata": {},
   "outputs": [
    {
     "data": {
      "text/plain": [
       "[0, 6, 20]"
      ]
     },
     "execution_count": 18,
     "metadata": {},
     "output_type": "execute_result"
    }
   ],
   "source": [
    "even_weighted_loop([1,2,3,4,5,6])"
   ]
  },
  {
   "cell_type": "markdown",
   "metadata": {},
   "source": [
    "## Max Product\n",
    "Write a function that takes in a list and returns the maximum product that can be formed using nonconsecutive\n",
    "elements of the list. The input list will contain only numbers greater than or equal to 1."
   ]
  },
  {
   "cell_type": "code",
   "execution_count": 41,
   "metadata": {},
   "outputs": [],
   "source": [
    "def max_product(s):\n",
    "    if len(s) == 0:\n",
    "        return 1\n",
    "    s_sort = sorted(s, reverse=True)\n",
    "    max_num = s_sort[0]\n",
    "    max_temp = s_sort[0]\n",
    "    #print(s_sort)\n",
    "    for i in range(len(s_sort)-1):\n",
    "        #max_temp = s_sort[i]\n",
    "        if s_sort[i] - s_sort[i+1] == 1 or s_sort[i] == s_sort[i+1]:\n",
    "            max_temp *= s_sort[i+1]\n",
    "            #print(max_temp, s_sort[i+1], max_num)\n",
    "        else:\n",
    "            max_temp = s_sort[i+1]\n",
    "        if max_temp > max_num:\n",
    "            max_num = max_temp\n",
    "    return max_num\n"
   ]
  },
  {
   "cell_type": "code",
   "execution_count": 42,
   "metadata": {},
   "outputs": [
    {
     "name": "stdout",
     "output_type": "stream",
     "text": [
      "90\n",
      "125\n",
      "1\n"
     ]
    }
   ],
   "source": [
    "print(max_product([10,3,1,9,2])) \n",
    "print(max_product([5,10,5,10,5])) \n",
    "print(max_product([])) "
   ]
  }
 ],
 "metadata": {
  "kernelspec": {
   "display_name": "Python 3",
   "language": "python",
   "name": "python3"
  },
  "language_info": {
   "codemirror_mode": {
    "name": "ipython",
    "version": 3
   },
   "file_extension": ".py",
   "mimetype": "text/x-python",
   "name": "python",
   "nbconvert_exporter": "python",
   "pygments_lexer": "ipython3",
   "version": "3.10.0"
  }
 },
 "nbformat": 4,
 "nbformat_minor": 2
}
